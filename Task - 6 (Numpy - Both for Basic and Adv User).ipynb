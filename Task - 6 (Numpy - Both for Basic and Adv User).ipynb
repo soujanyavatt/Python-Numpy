{
 "cells": [
  {
   "cell_type": "code",
   "execution_count": 1,
   "id": "7d41652b",
   "metadata": {},
   "outputs": [],
   "source": [
    "import numpy as np"
   ]
  },
  {
   "cell_type": "markdown",
   "id": "c33e6f24",
   "metadata": {},
   "source": [
    "## Arrays\n",
    "### Task\n",
    "You are given a space separated list of numbers.\n",
    "Your task is to print a reversed NumPy array with the element type float."
   ]
  },
  {
   "cell_type": "code",
   "execution_count": 8,
   "id": "093163da",
   "metadata": {},
   "outputs": [
    {
     "name": "stdout",
     "output_type": "stream",
     "text": [
      "1 2 3 4 -8 -10\n",
      "[-10.  -8.   4.   3.   2.   1.]\n"
     ]
    }
   ],
   "source": [
    "def arrays(arr):\n",
    "    return np.array(arr[::-1],float)\n",
    "\n",
    "arr = input().strip().split(' ')\n",
    "result = arrays(arr)\n",
    "print(result)"
   ]
  },
  {
   "cell_type": "code",
   "execution_count": null,
   "id": "e487827c",
   "metadata": {},
   "outputs": [],
   "source": []
  },
  {
   "cell_type": "markdown",
   "id": "3bfcba30",
   "metadata": {},
   "source": [
    "## Shape and Reshape\n",
    "\n",
    "Task\n",
    "\n",
    "You are given a space separated list of nine integers. Your task is to convert this list into a 3X3 NumPy array."
   ]
  },
  {
   "cell_type": "code",
   "execution_count": 31,
   "id": "9af50a80",
   "metadata": {},
   "outputs": [
    {
     "name": "stdout",
     "output_type": "stream",
     "text": [
      "1 2 3 4 5 6 7 8 9\n",
      "[[1 2 3]\n",
      " [4 5 6]\n",
      " [7 8 9]]\n"
     ]
    }
   ],
   "source": [
    "my_array = np.array(input().split(),int)\n",
    "reshape_array = my_array.reshape(3,3)\n",
    "print(reshape_array)"
   ]
  },
  {
   "cell_type": "code",
   "execution_count": null,
   "id": "2b7fe442",
   "metadata": {},
   "outputs": [],
   "source": []
  },
  {
   "cell_type": "markdown",
   "id": "a7768d42",
   "metadata": {},
   "source": [
    "## Transpose and Flatten\n",
    "Task <br> \n",
    "\n",
    "You are given a NXM integer array matrix with space separated elements (N = rows and M = columns). <br> \n",
    "Your task is to print the transpose and flatten results."
   ]
  },
  {
   "cell_type": "code",
   "execution_count": 49,
   "id": "a702bb2b",
   "metadata": {},
   "outputs": [
    {
     "name": "stdout",
     "output_type": "stream",
     "text": [
      "2 2\n",
      "1 2\n",
      "3 4\n",
      "[[1 3]\n",
      " [2 4]]\n",
      "[1 2 3 4]\n"
     ]
    }
   ],
   "source": [
    "n,m = map(int,input().split())\n",
    "\n",
    "my_array = np.array([input().strip().split(' ') for i in range(n)],int)\n",
    "transpose_array = np.transpose(my_array)\n",
    "flatten_array = my_array.flatten()\n",
    "print(transpose_array)\n",
    "print(flatten_array)"
   ]
  },
  {
   "cell_type": "code",
   "execution_count": null,
   "id": "e92ff986",
   "metadata": {},
   "outputs": [],
   "source": []
  },
  {
   "cell_type": "markdown",
   "id": "a727471a",
   "metadata": {},
   "source": [
    "## Concatenate\n",
    "Task<br>\n",
    "You are given two integer arrays of size N X P and M X P (N & M are rows, and P is the column). Your task is to concatenate the arrays along axis 0."
   ]
  },
  {
   "cell_type": "code",
   "execution_count": 55,
   "id": "04b3d64c",
   "metadata": {},
   "outputs": [
    {
     "name": "stdout",
     "output_type": "stream",
     "text": [
      "4 3 2\n",
      "1 2\n",
      "1 2\n",
      "1 2\n",
      "1 2\n",
      "3 4\n",
      "3 4\n",
      "3 4\n",
      "[[1 2]\n",
      " [1 2]\n",
      " [1 2]\n",
      " [1 2]\n",
      " [3 4]\n",
      " [3 4]\n",
      " [3 4]]\n"
     ]
    }
   ],
   "source": [
    "n,m,p = map(int,input().split())\n",
    "my_array_n = np.array([input().strip().split(' ') for i in range(n)],int)\n",
    "my_array_m = np.array([input().strip().split(' ') for i in range(m)],int)\n",
    "concatenate_array = np.concatenate((my_array_n,my_array_m),axis=0)\n",
    "print(concatenate_array)"
   ]
  },
  {
   "cell_type": "code",
   "execution_count": null,
   "id": "b155261d",
   "metadata": {},
   "outputs": [],
   "source": []
  },
  {
   "cell_type": "markdown",
   "id": "3d68d5f3",
   "metadata": {},
   "source": [
    "## Zeros and Ones\n",
    "\n",
    "Task<br>\n",
    "You are given the shape of the array in the form of space-separated integers, each integer representing the size of different dimensions, your task is to print an array of the given shape and integer type using the tools numpy.zeros and numpy.ones."
   ]
  },
  {
   "cell_type": "code",
   "execution_count": 57,
   "id": "d0df1b51",
   "metadata": {},
   "outputs": [
    {
     "name": "stdout",
     "output_type": "stream",
     "text": [
      "3 3 3\n",
      "[[[0 0 0]\n",
      "  [0 0 0]\n",
      "  [0 0 0]]\n",
      "\n",
      " [[0 0 0]\n",
      "  [0 0 0]\n",
      "  [0 0 0]]\n",
      "\n",
      " [[0 0 0]\n",
      "  [0 0 0]\n",
      "  [0 0 0]]]\n",
      "[[[1 1 1]\n",
      "  [1 1 1]\n",
      "  [1 1 1]]\n",
      "\n",
      " [[1 1 1]\n",
      "  [1 1 1]\n",
      "  [1 1 1]]\n",
      "\n",
      " [[1 1 1]\n",
      "  [1 1 1]\n",
      "  [1 1 1]]]\n"
     ]
    }
   ],
   "source": [
    "my_array = np.array(input().strip().split(' '),int)\n",
    "zeros_array = np.zeros((my_array),dtype=np.int)\n",
    "ones_array = np.ones((my_array),dtype=np.int)\n",
    "print(zeros_array)\n",
    "print(ones_array)"
   ]
  },
  {
   "cell_type": "code",
   "execution_count": null,
   "id": "4a610625",
   "metadata": {},
   "outputs": [],
   "source": []
  },
  {
   "cell_type": "markdown",
   "id": "000a1a17",
   "metadata": {},
   "source": [
    "## Eye and Identity\n",
    "\n",
    "Task :<br>\n",
    "Your task is to print an array of size N*M with its main diagonal elements as 1's and 0's everywhere else."
   ]
  },
  {
   "cell_type": "code",
   "execution_count": 62,
   "id": "c5315421",
   "metadata": {},
   "outputs": [
    {
     "name": "stdout",
     "output_type": "stream",
     "text": [
      "3 3\n",
      "[[ 1.  0.  0.]\n",
      " [ 0.  1.  0.]\n",
      " [ 0.  0.  1.]]\n"
     ]
    }
   ],
   "source": [
    "np.set_printoptions(legacy = '1.13')\n",
    "n,m = map(int,input().split(' '))\n",
    "eye_matrix = np.eye(n,m,k=0)\n",
    "print(eye_matrix)"
   ]
  },
  {
   "cell_type": "code",
   "execution_count": null,
   "id": "1a624ad0",
   "metadata": {},
   "outputs": [],
   "source": []
  },
  {
   "cell_type": "markdown",
   "id": "e8ff6b82",
   "metadata": {},
   "source": [
    "## Array Mathematics\n",
    "Task :<br>\n",
    "You are given two integer arrays, A and B of dimensions NXM.<br>\n",
    "Your task is to perform the following operations:<br>\n",
    "Add ( A + B)<br>\n",
    "Subtract ( A - B)<br>\n",
    "Multiply ( A * B)<br>\n",
    "Integer Division (A / B)<br>\n",
    "Mod (A % B)<br>\n",
    "Power (A ** B)"
   ]
  },
  {
   "cell_type": "code",
   "execution_count": 68,
   "id": "4ab84e28",
   "metadata": {},
   "outputs": [
    {
     "name": "stdout",
     "output_type": "stream",
     "text": [
      "1 4\n",
      "1 2 3 4\n",
      "5 6 7 8\n",
      "[[ 6  8 10 12]]\n",
      "[[-4 -4 -4 -4]]\n",
      "[[ 5 12 21 32]]\n",
      "[[0 0 0 0]]\n",
      "[[1 2 3 4]]\n",
      "[[    1    64  2187 65536]]\n"
     ]
    }
   ],
   "source": [
    "n,m = map(int,input().split(' '))\n",
    "my_array_n = np.array([input().strip().split(' ') for i in range(n)],int)\n",
    "my_array_m = np.array([input().strip().split(' ')for i in range(n)],int)\n",
    "addition = np.add(my_array_n,my_array_m)\n",
    "subtraction = np.subtract(my_array_n,my_array_m)\n",
    "multiplication = np.multiply(my_array_n,my_array_m)\n",
    "division = np.floor_divide(my_array_n,my_array_m)\n",
    "mod_array = np.mod(my_array_n,my_array_m)\n",
    "power_array = np.power(my_array_n,my_array_m)\n",
    "print(addition)\n",
    "print(subtraction)\n",
    "print(multiplication)\n",
    "print(division)\n",
    "print(mod_array)\n",
    "print(power_array)"
   ]
  },
  {
   "cell_type": "code",
   "execution_count": null,
   "id": "e1516b14",
   "metadata": {},
   "outputs": [],
   "source": []
  },
  {
   "cell_type": "markdown",
   "id": "bb76abf0",
   "metadata": {},
   "source": [
    "## Floor, Ceil and Rint\n",
    "Task :<br>\n",
    "You are given a 1-D array, A. Your task is to print the floor, celi and rint of all the elements of A."
   ]
  },
  {
   "cell_type": "code",
   "execution_count": 75,
   "id": "c145d39b",
   "metadata": {},
   "outputs": [
    {
     "name": "stdout",
     "output_type": "stream",
     "text": [
      "1.1 2.2 3.3 4.4 5.5 6.6 7.7 8.8 9.9\n",
      "[ 1.  2.  3.  4.  5.  6.  7.  8.  9.]\n",
      "[  2.   3.   4.   5.   6.   7.   8.   9.  10.]\n",
      "[  1.   2.   3.   4.   6.   7.   8.   9.  10.]\n"
     ]
    }
   ],
   "source": [
    "np.set_printoptions(legacy = '1.13')\n",
    "\n",
    "my_array = np.array(input().strip().split(' '),float)\n",
    "my_array_floor = np.floor(my_array)\n",
    "my_array_ceil = np.ceil(my_array)\n",
    "my_array_rint = np.rint(my_array)\n",
    "print(my_array_floor)\n",
    "print(my_array_ceil)\n",
    "print(my_array_rint)"
   ]
  },
  {
   "cell_type": "code",
   "execution_count": null,
   "id": "2b8018d8",
   "metadata": {},
   "outputs": [],
   "source": []
  },
  {
   "cell_type": "markdown",
   "id": "deb687e2",
   "metadata": {},
   "source": [
    "## Sum and Prod\n",
    "Task :<br>\n",
    "You are given a 2-D array with dimensions NXM.<br>\n",
    "Your task is to perform the sum tool over axis 0 and then find the product of that result. "
   ]
  },
  {
   "cell_type": "code",
   "execution_count": 81,
   "id": "66bf301f",
   "metadata": {},
   "outputs": [
    {
     "name": "stdout",
     "output_type": "stream",
     "text": [
      "2 2\n",
      "1 2\n",
      "3 4\n",
      "24\n"
     ]
    }
   ],
   "source": [
    "n,m = map(int,input().split(' '))\n",
    "my_array = np.array([input().strip().split(' ') for i in range(n)],int)\n",
    "sum_my_array = np.sum(my_array,axis=0)\n",
    "prod_my_array = np.prod(sum_my_array)\n",
    "print(prod_my_array)"
   ]
  },
  {
   "cell_type": "code",
   "execution_count": null,
   "id": "b9e83240",
   "metadata": {},
   "outputs": [],
   "source": []
  },
  {
   "cell_type": "markdown",
   "id": "3040a55e",
   "metadata": {},
   "source": [
    "## Min and Max\n",
    "Task<br>\n",
    "You are given a 2-D array with dimensions N X M.<br>\n",
    "Your task is to perform the min function over axis 1 and then find the max of that."
   ]
  },
  {
   "cell_type": "code",
   "execution_count": 86,
   "id": "cf473030",
   "metadata": {},
   "outputs": [
    {
     "name": "stdout",
     "output_type": "stream",
     "text": [
      "4 2\n",
      "2 5\n",
      "3 7\n",
      "1 3\n",
      "4 0\n",
      "3\n"
     ]
    }
   ],
   "source": [
    "n,m = map(int,input().split(' '))\n",
    "my_array = np.array([input().strip().split(' ') for i in range(n)],int)\n",
    "min_my_array = np.min(my_array,axis=1)\n",
    "max_my_array = np.max(min_my_array)\n",
    "print(max_my_array)"
   ]
  },
  {
   "cell_type": "code",
   "execution_count": null,
   "id": "1878abaa",
   "metadata": {},
   "outputs": [],
   "source": []
  },
  {
   "cell_type": "markdown",
   "id": "729cc5c4",
   "metadata": {},
   "source": [
    "## Mean, Var, and Std\n",
    "\n",
    "Task<br>\n",
    "You are given a 2-D array of size NxM. <br>\n",
    "Your task is to find:<br>\n",
    "1. The mean along axis 1 <br>\n",
    "2. The var along axis 0<br>\n",
    "3. The std along axis none"
   ]
  },
  {
   "cell_type": "code",
   "execution_count": 90,
   "id": "1deb7b8d",
   "metadata": {},
   "outputs": [
    {
     "name": "stdout",
     "output_type": "stream",
     "text": [
      "2 2\n",
      "1 2\n",
      "3 4\n",
      "[ 1.5  3.5]\n",
      "[ 1.  1.]\n",
      "1.11803398875\n"
     ]
    }
   ],
   "source": [
    "n,m = map(int,input().split( ))\n",
    "my_array = np.array([input().strip().split( ) for i in range(n)],int)\n",
    "mean_array = np.mean(my_array, axis = 1)\n",
    "var_array = np.var(my_array,axis = 0)\n",
    "std_array = round(np.std(my_array,axis = None),11)\n",
    "print(mean_array)\n",
    "print(var_array)\n",
    "print(std_array)"
   ]
  },
  {
   "cell_type": "code",
   "execution_count": null,
   "id": "42834c10",
   "metadata": {},
   "outputs": [],
   "source": []
  },
  {
   "cell_type": "markdown",
   "id": "7a5ca7e1",
   "metadata": {},
   "source": [
    "## Dot and Cross\n",
    "Task<br>\n",
    "You are given two arrays A and B. Both have dimensions of NxN. <br>\n",
    "Your task is to compute their matrix product."
   ]
  },
  {
   "cell_type": "code",
   "execution_count": 93,
   "id": "f3a308d6",
   "metadata": {},
   "outputs": [
    {
     "name": "stdout",
     "output_type": "stream",
     "text": [
      "2\n",
      "1 2\n",
      "3 4\n",
      "1 2\n",
      "3 4\n",
      "[[ 7 10]\n",
      " [15 22]]\n"
     ]
    }
   ],
   "source": [
    "n = int(input())\n",
    "a_array = np.array([input().strip().split() for i in range(n)],int)\n",
    "b_array = np.array([input().strip().split() for i in range(n)],int)\n",
    "print(np.dot(a_array,b_array))"
   ]
  },
  {
   "cell_type": "code",
   "execution_count": null,
   "id": "9411d7cd",
   "metadata": {},
   "outputs": [],
   "source": []
  },
  {
   "cell_type": "markdown",
   "id": "371f3e0f",
   "metadata": {},
   "source": [
    "## Inner and Outer\n",
    "Task<br>\n",
    "You are given two arrays: A and B.<br>\n",
    "Your task is to compute their inner and outer product."
   ]
  },
  {
   "cell_type": "code",
   "execution_count": 96,
   "id": "96d761b9",
   "metadata": {},
   "outputs": [
    {
     "name": "stdout",
     "output_type": "stream",
     "text": [
      "0 1\n",
      "2 3\n",
      "3\n",
      "[[0 0]\n",
      " [2 3]]\n"
     ]
    }
   ],
   "source": [
    "a_array = np.array(input().strip().split(),int)\n",
    "b_array = np.array(input().strip().split(),int)\n",
    "print(np.inner(a_array,b_array))\n",
    "print(np.outer(a_array,b_array))"
   ]
  },
  {
   "cell_type": "code",
   "execution_count": null,
   "id": "001581d9",
   "metadata": {},
   "outputs": [],
   "source": []
  },
  {
   "cell_type": "markdown",
   "id": "802f05f6",
   "metadata": {},
   "source": [
    "## Polynomials\n",
    "Task<br>\n",
    "You are given the coefficients of a polynomial P.<br>\n",
    "Your task is to find the value of P at point x."
   ]
  },
  {
   "cell_type": "code",
   "execution_count": 102,
   "id": "2f18c29f",
   "metadata": {},
   "outputs": [
    {
     "name": "stdout",
     "output_type": "stream",
     "text": [
      "1 .1 2 3\n",
      "0\n",
      "3.0\n"
     ]
    }
   ],
   "source": [
    "p_coeff = np.array(input().split(),float)\n",
    "x = float(input())\n",
    "print(np.polyval(p_coeff,x))"
   ]
  },
  {
   "cell_type": "code",
   "execution_count": null,
   "id": "08e433da",
   "metadata": {},
   "outputs": [],
   "source": []
  },
  {
   "cell_type": "markdown",
   "id": "843f2703",
   "metadata": {},
   "source": [
    "## Linear Algebra\n",
    "Task<br>\n",
    "You are given a square matrix  with dimensions X. Your task is to find the determinant. Note: Round the answer to 2 places after the decimal."
   ]
  },
  {
   "cell_type": "code",
   "execution_count": 104,
   "id": "e95e0281",
   "metadata": {},
   "outputs": [
    {
     "name": "stdout",
     "output_type": "stream",
     "text": [
      "2\n",
      "1.1 1.1\n",
      "1.1 1.1\n",
      "0.0\n"
     ]
    }
   ],
   "source": [
    "n = int(input())\n",
    "a_array = np.array([input().split() for i in range(n)],float)\n",
    "result = round(np.linalg.det(a_array),2)\n",
    "print(result)"
   ]
  }
 ],
 "metadata": {
  "kernelspec": {
   "display_name": "Python 3",
   "language": "python",
   "name": "python3"
  },
  "language_info": {
   "codemirror_mode": {
    "name": "ipython",
    "version": 3
   },
   "file_extension": ".py",
   "mimetype": "text/x-python",
   "name": "python",
   "nbconvert_exporter": "python",
   "pygments_lexer": "ipython3",
   "version": "3.8.8"
  }
 },
 "nbformat": 4,
 "nbformat_minor": 5
}
